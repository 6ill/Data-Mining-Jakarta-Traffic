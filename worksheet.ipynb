{
 "cells": [
  {
   "cell_type": "markdown",
   "metadata": {},
   "source": [
    "### Libraries"
   ]
  },
  {
   "cell_type": "code",
   "execution_count": 2,
   "metadata": {},
   "outputs": [],
   "source": [
    "import pandas as pd\n",
    "import json\n",
    "import numpy as np\n",
    "from sklearn.cluster import KMeans\n",
    "from sklearn.linear_model import LinearRegression\n",
    "from sklearn.preprocessing import OneHotEncoder\n",
    "from sklearn.model_selection import cross_val_score\n",
    "from sklearn.neural_network import MLPRegressor\n",
    "from sklearn.ensemble import RandomForestRegressor\n",
    "from sklearn.svm import SVR"
   ]
  },
  {
   "cell_type": "markdown",
   "metadata": {},
   "source": [
    "### Cleaned Dataframe"
   ]
  },
  {
   "cell_type": "code",
   "execution_count": null,
   "metadata": {},
   "outputs": [],
   "source": [
    "url = \"https://drive.google.com/file/d/16aOg3J57O1Gmx_7LSIMt-hPmMxYXtDH-/view?usp=sharing\"\n",
    "gdrive_df = pd.read_csv('https://drive.usercontent.google.com/download?id={}&export=download&authuser=0&confirm=t'.format(url.split('/')[-2]), index_col=[0], converters={'shape': pd.eval})\n",
    "gdrive_df.head()"
   ]
  },
  {
   "cell_type": "markdown",
   "metadata": {},
   "source": [
    "### Read Merged Dataset"
   ]
  },
  {
   "cell_type": "code",
   "execution_count": null,
   "metadata": {},
   "outputs": [],
   "source": [
    "new_df = pd.read_csv(\"merged_jakarta_traffic.csv\")\n",
    "new_df.head()"
   ]
  },
  {
   "cell_type": "markdown",
   "metadata": {},
   "source": [
    "### Exploratory Data Analysis"
   ]
  },
  {
   "cell_type": "code",
   "execution_count": null,
   "metadata": {},
   "outputs": [],
   "source": [
    "df_eda = gdrive_df.copy()\n",
    "\n",
    "def change_day_to_num(x):\n",
    "    dayDict = {\n",
    "        'MONDAY': 0,\n",
    "        'TUESDAY': 1, \n",
    "        'WEDNESDAY': 2,\n",
    "        'THURSDAY': 3,\n",
    "        'FRIDAY': 4,\n",
    "        'SATURDAY': 5,\n",
    "        'SUNDAY':6\n",
    "    }\n",
    "\n",
    "    return dayDict[x]\n",
    "\n",
    "def change_num_to_day(x):\n",
    "    dayDict = {\n",
    "        0: 'MONDAY', \n",
    "        1: 'TUESDAY', \n",
    "        2: 'WEDNESDAY', \n",
    "        3: 'THURSDAY', \n",
    "        4: 'FRIDAY', \n",
    "        5: 'SATURDAY', \n",
    "        6: 'SUNDAY'\n",
    "    }\n",
    "\n",
    "    return dayDict[x]\n",
    "\n",
    "df_eda['dayCode'] = df_eda['day'].apply(lambda x: change_day_to_num(x))\n",
    "\n",
    "df_eda.head(5)"
   ]
  },
  {
   "cell_type": "markdown",
   "metadata": {},
   "source": [
    "### Data Preparation"
   ]
  },
  {
   "cell_type": "code",
   "execution_count": 14,
   "metadata": {},
   "outputs": [],
   "source": [
    "new_df.drop(columns='Unnamed: 0', inplace=True)"
   ]
  },
  {
   "cell_type": "code",
   "execution_count": 15,
   "metadata": {},
   "outputs": [
    {
     "data": {
      "text/html": [
       "<div>\n",
       "<style scoped>\n",
       "    .dataframe tbody tr th:only-of-type {\n",
       "        vertical-align: middle;\n",
       "    }\n",
       "\n",
       "    .dataframe tbody tr th {\n",
       "        vertical-align: top;\n",
       "    }\n",
       "\n",
       "    .dataframe thead th {\n",
       "        text-align: right;\n",
       "    }\n",
       "</style>\n",
       "<table border=\"1\" class=\"dataframe\">\n",
       "  <thead>\n",
       "    <tr style=\"text-align: right;\">\n",
       "      <th></th>\n",
       "      <th>day</th>\n",
       "      <th>hour_interval</th>\n",
       "      <th>segmentId</th>\n",
       "      <th>speedLimit</th>\n",
       "      <th>frc</th>\n",
       "      <th>streetName</th>\n",
       "      <th>distance</th>\n",
       "      <th>shape</th>\n",
       "      <th>harmonicAverageSpeed</th>\n",
       "      <th>medianSpeed</th>\n",
       "      <th>averageSpeed</th>\n",
       "      <th>standardDeviationSpeed</th>\n",
       "      <th>travelTimeStandardDeviation</th>\n",
       "      <th>sampleSize</th>\n",
       "      <th>averageTravelTime</th>\n",
       "      <th>medianTravelTime</th>\n",
       "      <th>travelTimeRatio</th>\n",
       "    </tr>\n",
       "  </thead>\n",
       "  <tbody>\n",
       "    <tr>\n",
       "      <th>0</th>\n",
       "      <td>MONDAY</td>\n",
       "      <td>00:00-02:00</td>\n",
       "      <td>-13600003425517</td>\n",
       "      <td>18</td>\n",
       "      <td>2</td>\n",
       "      <td>Jalan Trans Yogie</td>\n",
       "      <td>16.33</td>\n",
       "      <td>[{'latitude': -6.3757, 'longitude': 106.90701}...</td>\n",
       "      <td>31.52</td>\n",
       "      <td>24.8</td>\n",
       "      <td>57.60</td>\n",
       "      <td>59.87</td>\n",
       "      <td>1.23</td>\n",
       "      <td>3</td>\n",
       "      <td>1.86</td>\n",
       "      <td>2.37</td>\n",
       "      <td>1.0</td>\n",
       "    </tr>\n",
       "    <tr>\n",
       "      <th>1</th>\n",
       "      <td>MONDAY</td>\n",
       "      <td>00:00-02:00</td>\n",
       "      <td>-13600001618936</td>\n",
       "      <td>50</td>\n",
       "      <td>5</td>\n",
       "      <td>Jalan Karya Bakti</td>\n",
       "      <td>34.33</td>\n",
       "      <td>[{'latitude': -6.36841, 'longitude': 106.89396...</td>\n",
       "      <td>28.10</td>\n",
       "      <td>28.1</td>\n",
       "      <td>28.10</td>\n",
       "      <td>0.00</td>\n",
       "      <td>0.00</td>\n",
       "      <td>1</td>\n",
       "      <td>4.40</td>\n",
       "      <td>4.40</td>\n",
       "      <td>1.0</td>\n",
       "    </tr>\n",
       "    <tr>\n",
       "      <th>2</th>\n",
       "      <td>MONDAY</td>\n",
       "      <td>00:00-02:00</td>\n",
       "      <td>-13600002440919</td>\n",
       "      <td>50</td>\n",
       "      <td>5</td>\n",
       "      <td>Jalan Karya Bakti</td>\n",
       "      <td>10.44</td>\n",
       "      <td>[{'latitude': -6.36829, 'longitude': 106.89368...</td>\n",
       "      <td>27.50</td>\n",
       "      <td>27.5</td>\n",
       "      <td>27.50</td>\n",
       "      <td>0.00</td>\n",
       "      <td>0.00</td>\n",
       "      <td>1</td>\n",
       "      <td>1.37</td>\n",
       "      <td>1.37</td>\n",
       "      <td>1.0</td>\n",
       "    </tr>\n",
       "    <tr>\n",
       "      <th>3</th>\n",
       "      <td>MONDAY</td>\n",
       "      <td>00:00-02:00</td>\n",
       "      <td>-13600001175418</td>\n",
       "      <td>50</td>\n",
       "      <td>5</td>\n",
       "      <td>Jalan Karya Bakti</td>\n",
       "      <td>284.25</td>\n",
       "      <td>[{'latitude': -6.36825, 'longitude': 106.89359...</td>\n",
       "      <td>27.60</td>\n",
       "      <td>27.6</td>\n",
       "      <td>27.60</td>\n",
       "      <td>0.00</td>\n",
       "      <td>0.00</td>\n",
       "      <td>1</td>\n",
       "      <td>37.08</td>\n",
       "      <td>37.08</td>\n",
       "      <td>1.0</td>\n",
       "    </tr>\n",
       "    <tr>\n",
       "      <th>4</th>\n",
       "      <td>MONDAY</td>\n",
       "      <td>00:00-02:00</td>\n",
       "      <td>-13600001957379</td>\n",
       "      <td>50</td>\n",
       "      <td>5</td>\n",
       "      <td>Jalan Karya Bakti</td>\n",
       "      <td>93.00</td>\n",
       "      <td>[{'latitude': -6.36731, 'longitude': 106.8912}...</td>\n",
       "      <td>33.53</td>\n",
       "      <td>31.9</td>\n",
       "      <td>35.23</td>\n",
       "      <td>10.02</td>\n",
       "      <td>2.57</td>\n",
       "      <td>3</td>\n",
       "      <td>9.99</td>\n",
       "      <td>10.50</td>\n",
       "      <td>1.0</td>\n",
       "    </tr>\n",
       "  </tbody>\n",
       "</table>\n",
       "</div>"
      ],
      "text/plain": [
       "      day hour_interval       segmentId  speedLimit  frc         streetName  \\\n",
       "0  MONDAY   00:00-02:00 -13600003425517          18    2  Jalan Trans Yogie   \n",
       "1  MONDAY   00:00-02:00 -13600001618936          50    5  Jalan Karya Bakti   \n",
       "2  MONDAY   00:00-02:00 -13600002440919          50    5  Jalan Karya Bakti   \n",
       "3  MONDAY   00:00-02:00 -13600001175418          50    5  Jalan Karya Bakti   \n",
       "4  MONDAY   00:00-02:00 -13600001957379          50    5  Jalan Karya Bakti   \n",
       "\n",
       "   distance                                              shape  \\\n",
       "0     16.33  [{'latitude': -6.3757, 'longitude': 106.90701}...   \n",
       "1     34.33  [{'latitude': -6.36841, 'longitude': 106.89396...   \n",
       "2     10.44  [{'latitude': -6.36829, 'longitude': 106.89368...   \n",
       "3    284.25  [{'latitude': -6.36825, 'longitude': 106.89359...   \n",
       "4     93.00  [{'latitude': -6.36731, 'longitude': 106.8912}...   \n",
       "\n",
       "   harmonicAverageSpeed  medianSpeed  averageSpeed  standardDeviationSpeed  \\\n",
       "0                 31.52         24.8         57.60                   59.87   \n",
       "1                 28.10         28.1         28.10                    0.00   \n",
       "2                 27.50         27.5         27.50                    0.00   \n",
       "3                 27.60         27.6         27.60                    0.00   \n",
       "4                 33.53         31.9         35.23                   10.02   \n",
       "\n",
       "   travelTimeStandardDeviation  sampleSize  averageTravelTime  \\\n",
       "0                         1.23           3               1.86   \n",
       "1                         0.00           1               4.40   \n",
       "2                         0.00           1               1.37   \n",
       "3                         0.00           1              37.08   \n",
       "4                         2.57           3               9.99   \n",
       "\n",
       "   medianTravelTime  travelTimeRatio  \n",
       "0              2.37              1.0  \n",
       "1              4.40              1.0  \n",
       "2              1.37              1.0  \n",
       "3             37.08              1.0  \n",
       "4             10.50              1.0  "
      ]
     },
     "execution_count": 15,
     "metadata": {},
     "output_type": "execute_result"
    }
   ],
   "source": [
    "new_df.head()"
   ]
  },
  {
   "cell_type": "markdown",
   "metadata": {},
   "source": [
    "#### Extract latitudes and longitues from 'shape'"
   ]
  },
  {
   "cell_type": "code",
   "execution_count": 17,
   "metadata": {},
   "outputs": [],
   "source": [
    "def extract_lat_lon(shape):\n",
    "    # Convert the string to a list of dictionaries\n",
    "    points = json.loads(shape.replace(\"'\", \"\\\"\"))\n",
    "    # Extract latitudes and longitudes\n",
    "    lat1, lon1 = points[0]['latitude'], points[0]['longitude']\n",
    "    lat2, lon2 = points[1]['latitude'], points[1]['longitude']\n",
    "    return lat1, lon1, lat2, lon2\n",
    "\n",
    "# Apply the function to the 'shape' column\n",
    "new_df[['lat1', 'lon1', 'lat2', 'lon2']] = new_df['shape'].apply(lambda x: pd.Series(extract_lat_lon(x)))"
   ]
  },
  {
   "cell_type": "code",
   "execution_count": 18,
   "metadata": {},
   "outputs": [],
   "source": [
    "new_df.to_csv(\"merged_extracted_coords_jakarta_traffic.csv\")"
   ]
  },
  {
   "cell_type": "code",
   "execution_count": 20,
   "metadata": {},
   "outputs": [],
   "source": [
    "a = pd.read_csv(\"merged_extracted_coords_jakarta_traffic.csv\")\n",
    "a.drop(columns=['Unnamed: 0', 'shape'], inplace=True)"
   ]
  },
  {
   "cell_type": "code",
   "execution_count": 21,
   "metadata": {},
   "outputs": [],
   "source": [
    "a.to_csv(\"extracted_coords_jakarta_traffic.csv\")"
   ]
  },
  {
   "cell_type": "markdown",
   "metadata": {},
   "source": [
    "### Data Preprocessing"
   ]
  },
  {
   "cell_type": "code",
   "execution_count": 5,
   "metadata": {},
   "outputs": [
    {
     "data": {
      "text/html": [
       "<div>\n",
       "<style scoped>\n",
       "    .dataframe tbody tr th:only-of-type {\n",
       "        vertical-align: middle;\n",
       "    }\n",
       "\n",
       "    .dataframe tbody tr th {\n",
       "        vertical-align: top;\n",
       "    }\n",
       "\n",
       "    .dataframe thead th {\n",
       "        text-align: right;\n",
       "    }\n",
       "</style>\n",
       "<table border=\"1\" class=\"dataframe\">\n",
       "  <thead>\n",
       "    <tr style=\"text-align: right;\">\n",
       "      <th></th>\n",
       "      <th>day</th>\n",
       "      <th>hour_interval</th>\n",
       "      <th>segmentId</th>\n",
       "      <th>speedLimit</th>\n",
       "      <th>frc</th>\n",
       "      <th>streetName</th>\n",
       "      <th>distance</th>\n",
       "      <th>harmonicAverageSpeed</th>\n",
       "      <th>medianSpeed</th>\n",
       "      <th>averageSpeed</th>\n",
       "      <th>standardDeviationSpeed</th>\n",
       "      <th>travelTimeStandardDeviation</th>\n",
       "      <th>sampleSize</th>\n",
       "      <th>averageTravelTime</th>\n",
       "      <th>medianTravelTime</th>\n",
       "      <th>travelTimeRatio</th>\n",
       "      <th>lat1</th>\n",
       "      <th>lon1</th>\n",
       "      <th>lat2</th>\n",
       "      <th>lon2</th>\n",
       "    </tr>\n",
       "  </thead>\n",
       "  <tbody>\n",
       "    <tr>\n",
       "      <th>0</th>\n",
       "      <td>MONDAY</td>\n",
       "      <td>00:00-02:00</td>\n",
       "      <td>-13600003425517</td>\n",
       "      <td>18</td>\n",
       "      <td>2</td>\n",
       "      <td>Jalan Trans Yogie</td>\n",
       "      <td>16.33</td>\n",
       "      <td>31.52</td>\n",
       "      <td>24.8</td>\n",
       "      <td>57.60</td>\n",
       "      <td>59.87</td>\n",
       "      <td>1.23</td>\n",
       "      <td>3</td>\n",
       "      <td>1.86</td>\n",
       "      <td>2.37</td>\n",
       "      <td>1.0</td>\n",
       "      <td>-6.37570</td>\n",
       "      <td>106.90701</td>\n",
       "      <td>-6.37555</td>\n",
       "      <td>106.90698</td>\n",
       "    </tr>\n",
       "    <tr>\n",
       "      <th>1</th>\n",
       "      <td>MONDAY</td>\n",
       "      <td>00:00-02:00</td>\n",
       "      <td>-13600001618936</td>\n",
       "      <td>50</td>\n",
       "      <td>5</td>\n",
       "      <td>Jalan Karya Bakti</td>\n",
       "      <td>34.33</td>\n",
       "      <td>28.10</td>\n",
       "      <td>28.1</td>\n",
       "      <td>28.10</td>\n",
       "      <td>0.00</td>\n",
       "      <td>0.00</td>\n",
       "      <td>1</td>\n",
       "      <td>4.40</td>\n",
       "      <td>4.40</td>\n",
       "      <td>1.0</td>\n",
       "      <td>-6.36841</td>\n",
       "      <td>106.89396</td>\n",
       "      <td>-6.36829</td>\n",
       "      <td>106.89368</td>\n",
       "    </tr>\n",
       "    <tr>\n",
       "      <th>2</th>\n",
       "      <td>MONDAY</td>\n",
       "      <td>00:00-02:00</td>\n",
       "      <td>-13600002440919</td>\n",
       "      <td>50</td>\n",
       "      <td>5</td>\n",
       "      <td>Jalan Karya Bakti</td>\n",
       "      <td>10.44</td>\n",
       "      <td>27.50</td>\n",
       "      <td>27.5</td>\n",
       "      <td>27.50</td>\n",
       "      <td>0.00</td>\n",
       "      <td>0.00</td>\n",
       "      <td>1</td>\n",
       "      <td>1.37</td>\n",
       "      <td>1.37</td>\n",
       "      <td>1.0</td>\n",
       "      <td>-6.36829</td>\n",
       "      <td>106.89368</td>\n",
       "      <td>-6.36825</td>\n",
       "      <td>106.89359</td>\n",
       "    </tr>\n",
       "    <tr>\n",
       "      <th>3</th>\n",
       "      <td>MONDAY</td>\n",
       "      <td>00:00-02:00</td>\n",
       "      <td>-13600001175418</td>\n",
       "      <td>50</td>\n",
       "      <td>5</td>\n",
       "      <td>Jalan Karya Bakti</td>\n",
       "      <td>284.25</td>\n",
       "      <td>27.60</td>\n",
       "      <td>27.6</td>\n",
       "      <td>27.60</td>\n",
       "      <td>0.00</td>\n",
       "      <td>0.00</td>\n",
       "      <td>1</td>\n",
       "      <td>37.08</td>\n",
       "      <td>37.08</td>\n",
       "      <td>1.0</td>\n",
       "      <td>-6.36825</td>\n",
       "      <td>106.89359</td>\n",
       "      <td>-6.36731</td>\n",
       "      <td>106.89120</td>\n",
       "    </tr>\n",
       "    <tr>\n",
       "      <th>4</th>\n",
       "      <td>MONDAY</td>\n",
       "      <td>00:00-02:00</td>\n",
       "      <td>-13600001957379</td>\n",
       "      <td>50</td>\n",
       "      <td>5</td>\n",
       "      <td>Jalan Karya Bakti</td>\n",
       "      <td>93.00</td>\n",
       "      <td>33.53</td>\n",
       "      <td>31.9</td>\n",
       "      <td>35.23</td>\n",
       "      <td>10.02</td>\n",
       "      <td>2.57</td>\n",
       "      <td>3</td>\n",
       "      <td>9.99</td>\n",
       "      <td>10.50</td>\n",
       "      <td>1.0</td>\n",
       "      <td>-6.36731</td>\n",
       "      <td>106.89120</td>\n",
       "      <td>-6.36700</td>\n",
       "      <td>106.89042</td>\n",
       "    </tr>\n",
       "  </tbody>\n",
       "</table>\n",
       "</div>"
      ],
      "text/plain": [
       "      day hour_interval       segmentId  speedLimit  frc         streetName  \\\n",
       "0  MONDAY   00:00-02:00 -13600003425517          18    2  Jalan Trans Yogie   \n",
       "1  MONDAY   00:00-02:00 -13600001618936          50    5  Jalan Karya Bakti   \n",
       "2  MONDAY   00:00-02:00 -13600002440919          50    5  Jalan Karya Bakti   \n",
       "3  MONDAY   00:00-02:00 -13600001175418          50    5  Jalan Karya Bakti   \n",
       "4  MONDAY   00:00-02:00 -13600001957379          50    5  Jalan Karya Bakti   \n",
       "\n",
       "   distance  harmonicAverageSpeed  medianSpeed  averageSpeed  \\\n",
       "0     16.33                 31.52         24.8         57.60   \n",
       "1     34.33                 28.10         28.1         28.10   \n",
       "2     10.44                 27.50         27.5         27.50   \n",
       "3    284.25                 27.60         27.6         27.60   \n",
       "4     93.00                 33.53         31.9         35.23   \n",
       "\n",
       "   standardDeviationSpeed  travelTimeStandardDeviation  sampleSize  \\\n",
       "0                   59.87                         1.23           3   \n",
       "1                    0.00                         0.00           1   \n",
       "2                    0.00                         0.00           1   \n",
       "3                    0.00                         0.00           1   \n",
       "4                   10.02                         2.57           3   \n",
       "\n",
       "   averageTravelTime  medianTravelTime  travelTimeRatio     lat1       lon1  \\\n",
       "0               1.86              2.37              1.0 -6.37570  106.90701   \n",
       "1               4.40              4.40              1.0 -6.36841  106.89396   \n",
       "2               1.37              1.37              1.0 -6.36829  106.89368   \n",
       "3              37.08             37.08              1.0 -6.36825  106.89359   \n",
       "4               9.99             10.50              1.0 -6.36731  106.89120   \n",
       "\n",
       "      lat2       lon2  \n",
       "0 -6.37555  106.90698  \n",
       "1 -6.36829  106.89368  \n",
       "2 -6.36825  106.89359  \n",
       "3 -6.36731  106.89120  \n",
       "4 -6.36700  106.89042  "
      ]
     },
     "execution_count": 5,
     "metadata": {},
     "output_type": "execute_result"
    }
   ],
   "source": [
    "df = pd.read_csv(\"../Data-Mining-Jakarta-Traffic (local)/extracted_coords_jakarta_traffic.csv\", index_col=[0])\n",
    "df.head()"
   ]
  },
  {
   "cell_type": "code",
   "execution_count": 6,
   "metadata": {},
   "outputs": [
    {
     "data": {
      "text/plain": [
       "(11396536, 20)"
      ]
     },
     "execution_count": 6,
     "metadata": {},
     "output_type": "execute_result"
    }
   ],
   "source": [
    "df.shape"
   ]
  },
  {
   "cell_type": "markdown",
   "metadata": {},
   "source": [
    "#### Calculating Midpoint"
   ]
  },
  {
   "cell_type": "code",
   "execution_count": 7,
   "metadata": {},
   "outputs": [],
   "source": [
    "df['mid_lat'] = (df['lat1'] + df['lat2']) / 2\n",
    "df['mid_lon'] = (df['lon1'] + df['lon2']) / 2"
   ]
  },
  {
   "cell_type": "markdown",
   "metadata": {},
   "source": [
    "#### Calculated Midpoints for Geographical Binning"
   ]
  },
  {
   "cell_type": "code",
   "execution_count": 8,
   "metadata": {},
   "outputs": [],
   "source": [
    "grid_size = 0.1\n",
    "\n",
    "# Apply grid-based binning using midpoints\n",
    "df['lat_bin'] = np.floor(df['mid_lat'] / grid_size) * grid_size\n",
    "df['lon_bin'] = np.floor(df['mid_lon'] / grid_size) * grid_size"
   ]
  },
  {
   "cell_type": "markdown",
   "metadata": {},
   "source": [
    "#### Geographical Clustering"
   ]
  },
  {
   "cell_type": "code",
   "execution_count": 9,
   "metadata": {},
   "outputs": [],
   "source": [
    "kmeans = KMeans(n_clusters=5, random_state=42)\n",
    "df['cluster'] = kmeans.fit_predict(df[['lat_bin', 'lon_bin']])"
   ]
  },
  {
   "cell_type": "code",
   "execution_count": 10,
   "metadata": {},
   "outputs": [
    {
     "data": {
      "text/plain": [
       "0    4568110\n",
       "2    3240625\n",
       "1    1593223\n",
       "3    1292440\n",
       "4     702138\n",
       "Name: cluster, dtype: int64"
      ]
     },
     "execution_count": 10,
     "metadata": {},
     "output_type": "execute_result"
    }
   ],
   "source": [
    "df['cluster'].value_counts()"
   ]
  },
  {
   "cell_type": "code",
   "execution_count": 11,
   "metadata": {},
   "outputs": [],
   "source": [
    "encoder = OneHotEncoder(sparse=False)\n",
    "encoded_time_features = encoder.fit_transform(df[['day', 'hour_interval']])"
   ]
  },
  {
   "cell_type": "code",
   "execution_count": 12,
   "metadata": {},
   "outputs": [
    {
     "data": {
      "text/html": [
       "<div>\n",
       "<style scoped>\n",
       "    .dataframe tbody tr th:only-of-type {\n",
       "        vertical-align: middle;\n",
       "    }\n",
       "\n",
       "    .dataframe tbody tr th {\n",
       "        vertical-align: top;\n",
       "    }\n",
       "\n",
       "    .dataframe thead th {\n",
       "        text-align: right;\n",
       "    }\n",
       "</style>\n",
       "<table border=\"1\" class=\"dataframe\">\n",
       "  <thead>\n",
       "    <tr style=\"text-align: right;\">\n",
       "      <th></th>\n",
       "      <th>segmentId</th>\n",
       "      <th>speedLimit</th>\n",
       "      <th>frc</th>\n",
       "      <th>streetName</th>\n",
       "      <th>distance</th>\n",
       "      <th>harmonicAverageSpeed</th>\n",
       "      <th>medianSpeed</th>\n",
       "      <th>averageSpeed</th>\n",
       "      <th>standardDeviationSpeed</th>\n",
       "      <th>travelTimeStandardDeviation</th>\n",
       "      <th>...</th>\n",
       "      <th>hour_interval_04:00-06:00</th>\n",
       "      <th>hour_interval_06:00-08:00</th>\n",
       "      <th>hour_interval_08:00-10:00</th>\n",
       "      <th>hour_interval_10:00-12:00</th>\n",
       "      <th>hour_interval_12:00-14:00</th>\n",
       "      <th>hour_interval_14:00-16:00</th>\n",
       "      <th>hour_interval_16:00-18:00</th>\n",
       "      <th>hour_interval_18:00-20:00</th>\n",
       "      <th>hour_interval_20:00-22:00</th>\n",
       "      <th>hour_interval_22:00-23:59</th>\n",
       "    </tr>\n",
       "  </thead>\n",
       "  <tbody>\n",
       "    <tr>\n",
       "      <th>0</th>\n",
       "      <td>-13600003425517</td>\n",
       "      <td>18</td>\n",
       "      <td>2</td>\n",
       "      <td>Jalan Trans Yogie</td>\n",
       "      <td>16.33</td>\n",
       "      <td>31.52</td>\n",
       "      <td>24.8</td>\n",
       "      <td>57.60</td>\n",
       "      <td>59.87</td>\n",
       "      <td>1.23</td>\n",
       "      <td>...</td>\n",
       "      <td>0.0</td>\n",
       "      <td>0.0</td>\n",
       "      <td>0.0</td>\n",
       "      <td>0.0</td>\n",
       "      <td>0.0</td>\n",
       "      <td>0.0</td>\n",
       "      <td>0.0</td>\n",
       "      <td>0.0</td>\n",
       "      <td>0.0</td>\n",
       "      <td>0.0</td>\n",
       "    </tr>\n",
       "    <tr>\n",
       "      <th>1</th>\n",
       "      <td>-13600001618936</td>\n",
       "      <td>50</td>\n",
       "      <td>5</td>\n",
       "      <td>Jalan Karya Bakti</td>\n",
       "      <td>34.33</td>\n",
       "      <td>28.10</td>\n",
       "      <td>28.1</td>\n",
       "      <td>28.10</td>\n",
       "      <td>0.00</td>\n",
       "      <td>0.00</td>\n",
       "      <td>...</td>\n",
       "      <td>0.0</td>\n",
       "      <td>0.0</td>\n",
       "      <td>0.0</td>\n",
       "      <td>0.0</td>\n",
       "      <td>0.0</td>\n",
       "      <td>0.0</td>\n",
       "      <td>0.0</td>\n",
       "      <td>0.0</td>\n",
       "      <td>0.0</td>\n",
       "      <td>0.0</td>\n",
       "    </tr>\n",
       "    <tr>\n",
       "      <th>2</th>\n",
       "      <td>-13600002440919</td>\n",
       "      <td>50</td>\n",
       "      <td>5</td>\n",
       "      <td>Jalan Karya Bakti</td>\n",
       "      <td>10.44</td>\n",
       "      <td>27.50</td>\n",
       "      <td>27.5</td>\n",
       "      <td>27.50</td>\n",
       "      <td>0.00</td>\n",
       "      <td>0.00</td>\n",
       "      <td>...</td>\n",
       "      <td>0.0</td>\n",
       "      <td>0.0</td>\n",
       "      <td>0.0</td>\n",
       "      <td>0.0</td>\n",
       "      <td>0.0</td>\n",
       "      <td>0.0</td>\n",
       "      <td>0.0</td>\n",
       "      <td>0.0</td>\n",
       "      <td>0.0</td>\n",
       "      <td>0.0</td>\n",
       "    </tr>\n",
       "    <tr>\n",
       "      <th>3</th>\n",
       "      <td>-13600001175418</td>\n",
       "      <td>50</td>\n",
       "      <td>5</td>\n",
       "      <td>Jalan Karya Bakti</td>\n",
       "      <td>284.25</td>\n",
       "      <td>27.60</td>\n",
       "      <td>27.6</td>\n",
       "      <td>27.60</td>\n",
       "      <td>0.00</td>\n",
       "      <td>0.00</td>\n",
       "      <td>...</td>\n",
       "      <td>0.0</td>\n",
       "      <td>0.0</td>\n",
       "      <td>0.0</td>\n",
       "      <td>0.0</td>\n",
       "      <td>0.0</td>\n",
       "      <td>0.0</td>\n",
       "      <td>0.0</td>\n",
       "      <td>0.0</td>\n",
       "      <td>0.0</td>\n",
       "      <td>0.0</td>\n",
       "    </tr>\n",
       "    <tr>\n",
       "      <th>4</th>\n",
       "      <td>-13600001957379</td>\n",
       "      <td>50</td>\n",
       "      <td>5</td>\n",
       "      <td>Jalan Karya Bakti</td>\n",
       "      <td>93.00</td>\n",
       "      <td>33.53</td>\n",
       "      <td>31.9</td>\n",
       "      <td>35.23</td>\n",
       "      <td>10.02</td>\n",
       "      <td>2.57</td>\n",
       "      <td>...</td>\n",
       "      <td>0.0</td>\n",
       "      <td>0.0</td>\n",
       "      <td>0.0</td>\n",
       "      <td>0.0</td>\n",
       "      <td>0.0</td>\n",
       "      <td>0.0</td>\n",
       "      <td>0.0</td>\n",
       "      <td>0.0</td>\n",
       "      <td>0.0</td>\n",
       "      <td>0.0</td>\n",
       "    </tr>\n",
       "  </tbody>\n",
       "</table>\n",
       "<p>5 rows × 42 columns</p>\n",
       "</div>"
      ],
      "text/plain": [
       "        segmentId  speedLimit  frc         streetName  distance  \\\n",
       "0 -13600003425517          18    2  Jalan Trans Yogie     16.33   \n",
       "1 -13600001618936          50    5  Jalan Karya Bakti     34.33   \n",
       "2 -13600002440919          50    5  Jalan Karya Bakti     10.44   \n",
       "3 -13600001175418          50    5  Jalan Karya Bakti    284.25   \n",
       "4 -13600001957379          50    5  Jalan Karya Bakti     93.00   \n",
       "\n",
       "   harmonicAverageSpeed  medianSpeed  averageSpeed  standardDeviationSpeed  \\\n",
       "0                 31.52         24.8         57.60                   59.87   \n",
       "1                 28.10         28.1         28.10                    0.00   \n",
       "2                 27.50         27.5         27.50                    0.00   \n",
       "3                 27.60         27.6         27.60                    0.00   \n",
       "4                 33.53         31.9         35.23                   10.02   \n",
       "\n",
       "   travelTimeStandardDeviation  ...  hour_interval_04:00-06:00  \\\n",
       "0                         1.23  ...                        0.0   \n",
       "1                         0.00  ...                        0.0   \n",
       "2                         0.00  ...                        0.0   \n",
       "3                         0.00  ...                        0.0   \n",
       "4                         2.57  ...                        0.0   \n",
       "\n",
       "   hour_interval_06:00-08:00  hour_interval_08:00-10:00  \\\n",
       "0                        0.0                        0.0   \n",
       "1                        0.0                        0.0   \n",
       "2                        0.0                        0.0   \n",
       "3                        0.0                        0.0   \n",
       "4                        0.0                        0.0   \n",
       "\n",
       "   hour_interval_10:00-12:00  hour_interval_12:00-14:00  \\\n",
       "0                        0.0                        0.0   \n",
       "1                        0.0                        0.0   \n",
       "2                        0.0                        0.0   \n",
       "3                        0.0                        0.0   \n",
       "4                        0.0                        0.0   \n",
       "\n",
       "   hour_interval_14:00-16:00  hour_interval_16:00-18:00  \\\n",
       "0                        0.0                        0.0   \n",
       "1                        0.0                        0.0   \n",
       "2                        0.0                        0.0   \n",
       "3                        0.0                        0.0   \n",
       "4                        0.0                        0.0   \n",
       "\n",
       "   hour_interval_18:00-20:00  hour_interval_20:00-22:00  \\\n",
       "0                        0.0                        0.0   \n",
       "1                        0.0                        0.0   \n",
       "2                        0.0                        0.0   \n",
       "3                        0.0                        0.0   \n",
       "4                        0.0                        0.0   \n",
       "\n",
       "   hour_interval_22:00-23:59  \n",
       "0                        0.0  \n",
       "1                        0.0  \n",
       "2                        0.0  \n",
       "3                        0.0  \n",
       "4                        0.0  \n",
       "\n",
       "[5 rows x 42 columns]"
      ]
     },
     "execution_count": 12,
     "metadata": {},
     "output_type": "execute_result"
    }
   ],
   "source": [
    "encoded_time_df = pd.DataFrame(encoded_time_features, columns=encoder.get_feature_names_out(['day', 'hour_interval']))\n",
    "\n",
    "df_encoded = pd.concat([df.drop(['day', 'hour_interval'], axis=1), encoded_time_df], axis=1)\n",
    "df_encoded.head()"
   ]
  },
  {
   "cell_type": "markdown",
   "metadata": {},
   "source": [
    "### Model"
   ]
  },
  {
   "cell_type": "markdown",
   "metadata": {},
   "source": [
    "#### Linear Regression"
   ]
  },
  {
   "cell_type": "code",
   "execution_count": 13,
   "metadata": {},
   "outputs": [],
   "source": [
    "features = df_encoded.drop(['streetName', 'segmentId', 'sampleSize', 'averageTravelTime', 'lat1', 'lon1',\n",
    "       'lat2', 'lon2', 'mid_lat', 'mid_lon', 'lat_bin', 'lon_bin'], axis=1)  \n",
    "target = df_encoded['averageTravelTime']"
   ]
  },
  {
   "cell_type": "code",
   "execution_count": 14,
   "metadata": {},
   "outputs": [],
   "source": [
    "lr_model = LinearRegression()"
   ]
  },
  {
   "cell_type": "code",
   "execution_count": 15,
   "metadata": {},
   "outputs": [
    {
     "name": "stdout",
     "output_type": "stream",
     "text": [
      "Cross-Validation R^2 Scores: [0.97215824 0.96784629 0.97043748 0.974274   0.96765392]\n",
      "Average R^2 Score: 0.9704739886921173\n"
     ]
    }
   ],
   "source": [
    "lr_scores = cross_val_score(lr_model, features, target, cv=5, scoring='r2')  # 5-fold cross-validation\n",
    "\n",
    "# Output the cross-validation lr_scores\n",
    "print(f'Cross-Validation R^2 Scores: {lr_scores}')\n",
    "print(f'Average R^2 Score: {lr_scores.mean()}')"
   ]
  },
  {
   "cell_type": "code",
   "execution_count": 16,
   "metadata": {},
   "outputs": [
    {
     "name": "stdout",
     "output_type": "stream",
     "text": [
      "                               importance\n",
      "hour_interval_02:00-04:00    4.188262e+06\n",
      "hour_interval_16:00-18:00    4.188261e+06\n",
      "hour_interval_00:00-02:00    4.188261e+06\n",
      "hour_interval_04:00-06:00    4.188261e+06\n",
      "hour_interval_06:00-08:00    4.188261e+06\n",
      "hour_interval_18:00-20:00    4.188261e+06\n",
      "hour_interval_14:00-16:00    4.188261e+06\n",
      "hour_interval_10:00-12:00    4.188261e+06\n",
      "hour_interval_08:00-10:00    4.188261e+06\n",
      "hour_interval_12:00-14:00    4.188261e+06\n",
      "hour_interval_22:00-23:59    4.188261e+06\n",
      "hour_interval_20:00-22:00    4.188261e+06\n",
      "day_WEDNESDAY                2.626174e+06\n",
      "day_FRIDAY                   2.626174e+06\n",
      "day_TUESDAY                  2.626174e+06\n",
      "day_THURSDAY                 2.626174e+06\n",
      "day_MONDAY                   2.626174e+06\n",
      "day_SATURDAY                 2.626174e+06\n",
      "day_SUNDAY                   2.626174e+06\n",
      "medianTravelTime             8.207117e-01\n",
      "medianSpeed                  4.125483e-01\n",
      "travelTimeStandardDeviation  3.003224e-01\n",
      "standardDeviationSpeed       7.097856e-02\n",
      "harmonicAverageSpeed         2.924333e-02\n",
      "distance                     1.645965e-02\n",
      "speedLimit                   4.225838e-03\n",
      "cluster                     -1.827896e-03\n",
      "frc                         -7.101133e-03\n",
      "averageSpeed                -5.070173e-01\n",
      "travelTimeRatio             -2.832825e+05\n"
     ]
    }
   ],
   "source": [
    "lr_model.fit(features, target)\n",
    "coefficients = lr_model.coef_\n",
    "feature_importances = pd.DataFrame(coefficients, index=features.columns, columns=['importance'])\n",
    "\n",
    "# Sort feature importances\n",
    "feature_importances = feature_importances.sort_values(by='importance', ascending=False)\n",
    "\n",
    "# Display the feature importances\n",
    "print(feature_importances)"
   ]
  },
  {
   "cell_type": "markdown",
   "metadata": {},
   "source": [
    "#### SVM"
   ]
  },
  {
   "cell_type": "code",
   "execution_count": 17,
   "metadata": {},
   "outputs": [],
   "source": [
    "svm_model = SVR(kernel='rbf', C=1.0, epsilon=0.1)\n",
    "\n",
    "svm_scores = cross_val_score(svm_model, features, target, cv=5, scoring='r2')\n",
    "\n",
    "print(f'Cross-Validation R^2 Scores: {svm_scores}')\n",
    "print(f'Average R^2 Score: {svm_scores.mean()}')"
   ]
  },
  {
   "cell_type": "markdown",
   "metadata": {},
   "source": [
    "#### MLP"
   ]
  },
  {
   "cell_type": "code",
   "execution_count": null,
   "metadata": {},
   "outputs": [
    {
     "ename": "NameError",
     "evalue": "name 'features' is not defined",
     "output_type": "error",
     "traceback": [
      "\u001b[1;31m---------------------------------------------------------------------------\u001b[0m",
      "\u001b[1;31mNameError\u001b[0m                                 Traceback (most recent call last)",
      "Cell \u001b[1;32mIn [4], line 2\u001b[0m\n\u001b[0;32m      1\u001b[0m mlp_model \u001b[38;5;241m=\u001b[39m MLPRegressor(hidden_layer_sizes\u001b[38;5;241m=\u001b[39m(\u001b[38;5;241m100\u001b[39m,\u001b[38;5;241m100\u001b[39m), max_iter\u001b[38;5;241m=\u001b[39m\u001b[38;5;241m1000\u001b[39m, random_state\u001b[38;5;241m=\u001b[39m\u001b[38;5;241m0\u001b[39m)\n\u001b[1;32m----> 2\u001b[0m mlp_scores \u001b[38;5;241m=\u001b[39m cross_val_score(mlp_model, features, target, cv\u001b[38;5;241m=\u001b[39m\u001b[38;5;241m5\u001b[39m, scoring\u001b[38;5;241m=\u001b[39m\u001b[38;5;124m'\u001b[39m\u001b[38;5;124mr2\u001b[39m\u001b[38;5;124m'\u001b[39m)\n\u001b[0;32m      4\u001b[0m \u001b[38;5;28mprint\u001b[39m(\u001b[38;5;124mf\u001b[39m\u001b[38;5;124m'\u001b[39m\u001b[38;5;124mCross-Validation R^2 Scores: \u001b[39m\u001b[38;5;132;01m{\u001b[39;00mmlp_scores\u001b[38;5;132;01m}\u001b[39;00m\u001b[38;5;124m'\u001b[39m)\n\u001b[0;32m      5\u001b[0m \u001b[38;5;28mprint\u001b[39m(\u001b[38;5;124mf\u001b[39m\u001b[38;5;124m'\u001b[39m\u001b[38;5;124mAverage R^2 Score: \u001b[39m\u001b[38;5;132;01m{\u001b[39;00mmlp_scores\u001b[38;5;241m.\u001b[39mmean()\u001b[38;5;132;01m}\u001b[39;00m\u001b[38;5;124m'\u001b[39m)\n",
      "\u001b[1;31mNameError\u001b[0m: name 'features' is not defined"
     ]
    }
   ],
   "source": [
    "mlp_model = MLPRegressor(hidden_layer_sizes=(100,100), max_iter=1000, random_state=0)\n",
    "mlp_scores = cross_val_score(mlp_model, features, target, cv=5, scoring='r2')\n",
    "\n",
    "print(f'Cross-Validation R^2 Scores: {mlp_scores}')\n",
    "print(f'Average R^2 Score: {mlp_scores.mean()}')"
   ]
  }
 ],
 "metadata": {
  "kernelspec": {
   "display_name": "Python 3",
   "language": "python",
   "name": "python3"
  },
  "language_info": {
   "codemirror_mode": {
    "name": "ipython",
    "version": 3
   },
   "file_extension": ".py",
   "mimetype": "text/x-python",
   "name": "python",
   "nbconvert_exporter": "python",
   "pygments_lexer": "ipython3",
   "version": "3.10.7"
  }
 },
 "nbformat": 4,
 "nbformat_minor": 2
}
